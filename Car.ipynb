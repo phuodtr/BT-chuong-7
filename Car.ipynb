{
  "nbformat": 4,
  "nbformat_minor": 0,
  "metadata": {
    "colab": {
      "name": "Car.ipynb",
      "provenance": [],
      "authorship_tag": "ABX9TyMsz8xt07ViAOgpqNFwcayt",
      "include_colab_link": true
    },
    "kernelspec": {
      "name": "python3",
      "display_name": "Python 3"
    }
  },
  "cells": [
    {
      "cell_type": "markdown",
      "metadata": {
        "id": "view-in-github",
        "colab_type": "text"
      },
      "source": [
        "<a href=\"https://colab.research.google.com/github/phuodtr/BT-chuong-7/blob/main/Car.ipynb\" target=\"_parent\"><img src=\"https://colab.research.google.com/assets/colab-badge.svg\" alt=\"Open In Colab\"/></a>"
      ]
    },
    {
      "cell_type": "markdown",
      "metadata": {
        "id": "kXX2tX2S43-I"
      },
      "source": [
        "Tạo lớp CAR có các thuộc tính name, color và engine\r\n"
      ]
    },
    {
      "cell_type": "code",
      "metadata": {
        "id": "_YMo5ALK42y0"
      },
      "source": [
        "class Car:\r\n",
        "  color = 'white'\r\n",
        "\r\n",
        "  def __init__(self, name, engine):\r\n",
        "    self.name = name\r\n",
        "    self.engine = engine\r\n",
        "  \r\n",
        "  def setColor(self, color):\r\n",
        "    self.color = color\r\n",
        "  \r\n",
        "  def setEngine(self, engine):\r\n",
        "    self.engine = engine\r\n",
        "  \r\n",
        "  def setName(self, name):\r\n",
        "    self.name = name\r\n",
        "  \r\n",
        "  def getEngine(self):\r\n",
        "    return self.engine\r\n",
        "  \r\n",
        "  def toString(self):\r\n",
        "    s = 'Xe {} có màu {} và động cơ {} mã lực'.format(self.name, self.color, self.engine)\r\n",
        "    return(s)"
      ],
      "execution_count": 1,
      "outputs": []
    },
    {
      "cell_type": "markdown",
      "metadata": {
        "id": "DeTI_ziP5I_Z"
      },
      "source": [
        "Sử dụng lớp Car"
      ]
    },
    {
      "cell_type": "code",
      "metadata": {
        "colab": {
          "base_uri": "https://localhost:8080/"
        },
        "id": "dpA6naw_5L-g",
        "outputId": "7cb388be-b4b4-4301-f968-f5e9cf472235"
      },
      "source": [
        "fadil = Car('Vinfast Fadil', 1.4)\r\n",
        "print(fadil.toString())"
      ],
      "execution_count": 2,
      "outputs": [
        {
          "output_type": "stream",
          "text": [
            "Xe Vinfast Fadil có màu white và động cơ 1.4 mã lực\n"
          ],
          "name": "stdout"
        }
      ]
    },
    {
      "cell_type": "code",
      "metadata": {
        "colab": {
          "base_uri": "https://localhost:8080/"
        },
        "id": "1AvFkq8E5So3",
        "outputId": "12f7fb57-7187-4237-e5ab-15083c7d5e77"
      },
      "source": [
        "fadil.setColor(\"Red\")\r\n",
        "print(fadil.toString())"
      ],
      "execution_count": 3,
      "outputs": [
        {
          "output_type": "stream",
          "text": [
            "Xe Vinfast Fadil có màu Red và động cơ 1.4 mã lực\n"
          ],
          "name": "stdout"
        }
      ]
    }
  ]
}